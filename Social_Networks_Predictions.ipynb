{
 "cells": [
  {
   "cell_type": "markdown",
   "metadata": {},
   "source": [
    "# Predictions in Social Networks"
   ]
  },
  {
   "cell_type": "markdown",
   "metadata": {},
   "source": [
    "**Data Description:**\n",
    "- The Dataset **nodes_df.csv** contains information about the `Department`(indicating the department in the company which the person belongs to) and the `ManagementSalary` (indicating whether that person is receiving a management position salary) of people in a company \n",
    "- The Dataset **edge_list.csv** contains information about the email-communication: each edge indicates that at least one email has been sent between two people\n",
    "- The Dataset **Future_Connections.csv** contains pair of nodes that currently do not have a connection, and the `Future Connection` column indicates if an edge between those two nodes will exist in the future, where a value of 1.0 indicates a future connection and value 0.0 indicates no connection. Some connections have no value yet.\n",
    "\n",
    "**Predictions:**\n",
    "1. `ManagementSalary`: Some people in the network have missing information about the Management Salary - I will predict whether or not these individuals are receiving a management position salary. For this purpose I will create a matrix of node features using networkx, train a LR classifier on nodes that have ManagementSalary data, and predict the probability of receiving a management salary for nodes where this is missing. \n",
    "\n",
    "2. `Future connections`:  I will create a matrix of features for the edges using networkx and train a LR classifier classifier on edges, that have a connection and predict the probability of receiving a connection for those edges with a missing connection. \n"
   ]
  },
  {
   "cell_type": "code",
   "execution_count": 11,
   "metadata": {},
   "outputs": [],
   "source": [
    "#loading the libraries\n",
    "import networkx as nx\n",
    "import pandas as pd\n",
    "import numpy as np\n",
    "from sklearn.linear_model import LogisticRegression\n",
    "from sklearn.metrics import roc_auc_score, auc,  confusion_matrix\n",
    "from sklearn.model_selection import GridSearchCV\n",
    "from sklearn.preprocessing import StandardScaler\n",
    "from sklearn.model_selection import train_test_split\n",
    "import itertools\n",
    "import matplotlib.pyplot as plt\n",
    "%matplotlib inline"
   ]
  },
  {
   "cell_type": "code",
   "execution_count": 12,
   "metadata": {},
   "outputs": [
    {
     "data": {
      "text/html": [
       "<div>\n",
       "<style scoped>\n",
       "    .dataframe tbody tr th:only-of-type {\n",
       "        vertical-align: middle;\n",
       "    }\n",
       "\n",
       "    .dataframe tbody tr th {\n",
       "        vertical-align: top;\n",
       "    }\n",
       "\n",
       "    .dataframe thead th {\n",
       "        text-align: right;\n",
       "    }\n",
       "</style>\n",
       "<table border=\"1\" class=\"dataframe\">\n",
       "  <thead>\n",
       "    <tr style=\"text-align: right;\">\n",
       "      <th></th>\n",
       "      <th>Department</th>\n",
       "      <th>ManagementSalary</th>\n",
       "    </tr>\n",
       "  </thead>\n",
       "  <tbody>\n",
       "    <tr>\n",
       "      <th>0</th>\n",
       "      <td>1</td>\n",
       "      <td>0.0</td>\n",
       "    </tr>\n",
       "    <tr>\n",
       "      <th>1</th>\n",
       "      <td>1</td>\n",
       "      <td>NaN</td>\n",
       "    </tr>\n",
       "    <tr>\n",
       "      <th>2</th>\n",
       "      <td>21</td>\n",
       "      <td>NaN</td>\n",
       "    </tr>\n",
       "    <tr>\n",
       "      <th>3</th>\n",
       "      <td>21</td>\n",
       "      <td>1.0</td>\n",
       "    </tr>\n",
       "    <tr>\n",
       "      <th>4</th>\n",
       "      <td>21</td>\n",
       "      <td>1.0</td>\n",
       "    </tr>\n",
       "  </tbody>\n",
       "</table>\n",
       "</div>"
      ],
      "text/plain": [
       "   Department  ManagementSalary\n",
       "0           1               0.0\n",
       "1           1               NaN\n",
       "2          21               NaN\n",
       "3          21               1.0\n",
       "4          21               1.0"
      ]
     },
     "execution_count": 12,
     "metadata": {},
     "output_type": "execute_result"
    }
   ],
   "source": [
    "#loading the nodes_df dataset\n",
    "df= pd.read_csv('nodes_df.csv')\n",
    "df.head()"
   ]
  },
  {
   "cell_type": "code",
   "execution_count": 15,
   "metadata": {},
   "outputs": [],
   "source": [
    "#load the edge_list dataset\n",
    "import csv\n",
    "with open('edge_list.csv') as csvfile:\n",
    "    edges = list(csv.reader(csvfile)) # ginbt eine dictionary ansicht der file wieder\n",
    "edges = [x for x in edges if x]\n",
    "del edges[0]\n",
    "edges_tups=[(i[0], i[1]) for i in edges]"
   ]
  },
  {
   "cell_type": "code",
   "execution_count": 17,
   "metadata": {},
   "outputs": [],
   "source": [
    "#building a graph from the data\n",
    "G1=nx.Graph()\n",
    "G1.add_edges_from(edges_tups)"
   ]
  },
  {
   "cell_type": "markdown",
   "metadata": {},
   "source": [
    "### 1. Predicting Management Salary"
   ]
  },
  {
   "cell_type": "code",
   "execution_count": 18,
   "metadata": {},
   "outputs": [],
   "source": [
    "df.index= df.index.astype('str')"
   ]
  },
  {
   "cell_type": "code",
   "execution_count": 19,
   "metadata": {},
   "outputs": [],
   "source": [
    "#creating the matrix\n",
    "deg= dict(G1.degree())\n",
    "df['degree_od_node'] = list(deg.values())\n",
    "df['clustering_coefficiant'] = pd.Series(nx.clustering(G1))\n",
    "df['degree_centrality'] = pd.Series(nx.degree_centrality(G1))\n",
    "df['closeness_centrality'] = pd.Series(nx.closeness_centrality(G1))\n",
    "df['beteen_centrality'] = pd.Series(nx.betweenness_centrality(G1, normalized = True, endpoints= False))\n",
    "df['page_rank']= pd.Series(nx.pagerank(G1, alpha=0.85, personalization=None, max_iter=100, tol=1e-06, nstart=None, weight='weight', dangling=None))\n",
    "df['hubs'] = pd.Series(nx.hits(G1)[0])\n",
    "df['authorities'] = pd.Series(nx.hits(G1)[1])"
   ]
  },
  {
   "cell_type": "code",
   "execution_count": 20,
   "metadata": {},
   "outputs": [
    {
     "data": {
      "text/html": [
       "<div>\n",
       "<style scoped>\n",
       "    .dataframe tbody tr th:only-of-type {\n",
       "        vertical-align: middle;\n",
       "    }\n",
       "\n",
       "    .dataframe tbody tr th {\n",
       "        vertical-align: top;\n",
       "    }\n",
       "\n",
       "    .dataframe thead th {\n",
       "        text-align: right;\n",
       "    }\n",
       "</style>\n",
       "<table border=\"1\" class=\"dataframe\">\n",
       "  <thead>\n",
       "    <tr style=\"text-align: right;\">\n",
       "      <th></th>\n",
       "      <th>Department</th>\n",
       "      <th>ManagementSalary</th>\n",
       "      <th>degree_od_node</th>\n",
       "      <th>clustering_coefficiant</th>\n",
       "      <th>degree_centrality</th>\n",
       "      <th>closeness_centrality</th>\n",
       "      <th>beteen_centrality</th>\n",
       "      <th>page_rank</th>\n",
       "      <th>hubs</th>\n",
       "      <th>authorities</th>\n",
       "    </tr>\n",
       "  </thead>\n",
       "  <tbody>\n",
       "    <tr>\n",
       "      <th>0</th>\n",
       "      <td>1</td>\n",
       "      <td>0.0</td>\n",
       "      <td>44</td>\n",
       "      <td>0.276423</td>\n",
       "      <td>0.043825</td>\n",
       "      <td>0.421991</td>\n",
       "      <td>0.001124</td>\n",
       "      <td>0.001224</td>\n",
       "      <td>0.000944</td>\n",
       "      <td>0.000944</td>\n",
       "    </tr>\n",
       "    <tr>\n",
       "      <th>1</th>\n",
       "      <td>1</td>\n",
       "      <td>NaN</td>\n",
       "      <td>52</td>\n",
       "      <td>0.265306</td>\n",
       "      <td>0.051793</td>\n",
       "      <td>0.422360</td>\n",
       "      <td>0.001195</td>\n",
       "      <td>0.001426</td>\n",
       "      <td>0.001472</td>\n",
       "      <td>0.001472</td>\n",
       "    </tr>\n",
       "    <tr>\n",
       "      <th>2</th>\n",
       "      <td>21</td>\n",
       "      <td>NaN</td>\n",
       "      <td>111</td>\n",
       "      <td>0.297803</td>\n",
       "      <td>0.094622</td>\n",
       "      <td>0.461490</td>\n",
       "      <td>0.006570</td>\n",
       "      <td>0.002605</td>\n",
       "      <td>0.002680</td>\n",
       "      <td>0.002680</td>\n",
       "    </tr>\n",
       "    <tr>\n",
       "      <th>3</th>\n",
       "      <td>21</td>\n",
       "      <td>1.0</td>\n",
       "      <td>47</td>\n",
       "      <td>0.384910</td>\n",
       "      <td>0.070717</td>\n",
       "      <td>0.441663</td>\n",
       "      <td>0.001654</td>\n",
       "      <td>0.001833</td>\n",
       "      <td>0.002369</td>\n",
       "      <td>0.002369</td>\n",
       "    </tr>\n",
       "    <tr>\n",
       "      <th>4</th>\n",
       "      <td>21</td>\n",
       "      <td>1.0</td>\n",
       "      <td>30</td>\n",
       "      <td>0.318691</td>\n",
       "      <td>0.095618</td>\n",
       "      <td>0.462152</td>\n",
       "      <td>0.005547</td>\n",
       "      <td>0.002526</td>\n",
       "      <td>0.003055</td>\n",
       "      <td>0.003055</td>\n",
       "    </tr>\n",
       "  </tbody>\n",
       "</table>\n",
       "</div>"
      ],
      "text/plain": [
       "   Department  ManagementSalary  degree_od_node  clustering_coefficiant  \\\n",
       "0           1               0.0              44                0.276423   \n",
       "1           1               NaN              52                0.265306   \n",
       "2          21               NaN             111                0.297803   \n",
       "3          21               1.0              47                0.384910   \n",
       "4          21               1.0              30                0.318691   \n",
       "\n",
       "   degree_centrality  closeness_centrality  beteen_centrality  page_rank  \\\n",
       "0           0.043825              0.421991           0.001124   0.001224   \n",
       "1           0.051793              0.422360           0.001195   0.001426   \n",
       "2           0.094622              0.461490           0.006570   0.002605   \n",
       "3           0.070717              0.441663           0.001654   0.001833   \n",
       "4           0.095618              0.462152           0.005547   0.002526   \n",
       "\n",
       "       hubs  authorities  \n",
       "0  0.000944     0.000944  \n",
       "1  0.001472     0.001472  \n",
       "2  0.002680     0.002680  \n",
       "3  0.002369     0.002369  \n",
       "4  0.003055     0.003055  "
      ]
     },
     "execution_count": 20,
     "metadata": {},
     "output_type": "execute_result"
    }
   ],
   "source": [
    "df.head()"
   ]
  },
  {
   "cell_type": "code",
   "execution_count": 21,
   "metadata": {},
   "outputs": [
    {
     "name": "stderr",
     "output_type": "stream",
     "text": [
      "C:\\Users\\User\\Anaconda3\\lib\\site-packages\\sklearn\\preprocessing\\data.py:625: DataConversionWarning: Data with input dtype int64 were all converted to float64 by StandardScaler.\n",
      "  return self.partial_fit(X, y)\n",
      "C:\\Users\\User\\Anaconda3\\lib\\site-packages\\sklearn\\base.py:462: DataConversionWarning: Data with input dtype int64 were all converted to float64 by StandardScaler.\n",
      "  return self.fit(X, **fit_params).transform(X)\n"
     ]
    }
   ],
   "source": [
    "#standardizing the continous variables\n",
    "cols = list(df.columns)\n",
    "del cols[0]\n",
    "del cols[0]\n",
    "for i in cols:\n",
    "    df[[i]] = StandardScaler().fit_transform(df[[i]])"
   ]
  },
  {
   "cell_type": "code",
   "execution_count": 22,
   "metadata": {},
   "outputs": [],
   "source": [
    "#creating subsets for prediction\n",
    "trainset= df.dropna(subset=['ManagementSalary'], axis= 0) \n",
    "X= trainset.drop(\"ManagementSalary\", 1) #nur eine\n",
    "y= trainset[\"ManagementSalary\"]\n",
    "miss = df[df['ManagementSalary'].isnull()]\n",
    "miss_X= miss.drop(\"ManagementSalary\", 1)"
   ]
  },
  {
   "cell_type": "code",
   "execution_count": 23,
   "metadata": {},
   "outputs": [],
   "source": [
    "#getting dummies for the categorical variable \"Department\" - for X and miss_X\n",
    "dum = pd.get_dummies(X[\"Department\"], prefix=\"Department\")\n",
    "X = pd.concat([X, dum], axis=1)\n",
    "X.drop([\"Department\"], axis = 1, inplace=True)\n",
    "dum = pd.get_dummies(miss_X[\"Department\"], prefix=\"Department\")\n",
    "miss_X = pd.concat([miss_X, dum], axis=1)\n",
    "miss_X.drop([\"Department\"], axis = 1, inplace=True)"
   ]
  },
  {
   "cell_type": "code",
   "execution_count": 24,
   "metadata": {},
   "outputs": [
    {
     "data": {
      "text/html": [
       "<div>\n",
       "<style scoped>\n",
       "    .dataframe tbody tr th:only-of-type {\n",
       "        vertical-align: middle;\n",
       "    }\n",
       "\n",
       "    .dataframe tbody tr th {\n",
       "        vertical-align: top;\n",
       "    }\n",
       "\n",
       "    .dataframe thead th {\n",
       "        text-align: right;\n",
       "    }\n",
       "</style>\n",
       "<table border=\"1\" class=\"dataframe\">\n",
       "  <thead>\n",
       "    <tr style=\"text-align: right;\">\n",
       "      <th></th>\n",
       "      <th>degree_od_node</th>\n",
       "      <th>clustering_coefficiant</th>\n",
       "      <th>degree_centrality</th>\n",
       "      <th>closeness_centrality</th>\n",
       "      <th>beteen_centrality</th>\n",
       "      <th>page_rank</th>\n",
       "      <th>hubs</th>\n",
       "      <th>authorities</th>\n",
       "      <th>Department_0</th>\n",
       "      <th>Department_1</th>\n",
       "      <th>...</th>\n",
       "      <th>Department_32</th>\n",
       "      <th>Department_33</th>\n",
       "      <th>Department_34</th>\n",
       "      <th>Department_35</th>\n",
       "      <th>Department_36</th>\n",
       "      <th>Department_37</th>\n",
       "      <th>Department_38</th>\n",
       "      <th>Department_39</th>\n",
       "      <th>Department_40</th>\n",
       "      <th>Department_41</th>\n",
       "    </tr>\n",
       "  </thead>\n",
       "  <tbody>\n",
       "    <tr>\n",
       "      <th>0</th>\n",
       "      <td>0.288218</td>\n",
       "      <td>-0.488668</td>\n",
       "      <td>0.288218</td>\n",
       "      <td>0.565407</td>\n",
       "      <td>-0.090596</td>\n",
       "      <td>0.249207</td>\n",
       "      <td>-0.040889</td>\n",
       "      <td>-0.040889</td>\n",
       "      <td>0</td>\n",
       "      <td>1</td>\n",
       "      <td>...</td>\n",
       "      <td>0</td>\n",
       "      <td>0</td>\n",
       "      <td>0</td>\n",
       "      <td>0</td>\n",
       "      <td>0</td>\n",
       "      <td>0</td>\n",
       "      <td>0</td>\n",
       "      <td>0</td>\n",
       "      <td>0</td>\n",
       "      <td>0</td>\n",
       "    </tr>\n",
       "    <tr>\n",
       "      <th>3</th>\n",
       "      <td>0.368619</td>\n",
       "      <td>-0.057418</td>\n",
       "      <td>1.011828</td>\n",
       "      <td>0.828308</td>\n",
       "      <td>0.029657</td>\n",
       "      <td>0.911739</td>\n",
       "      <td>1.105256</td>\n",
       "      <td>1.105256</td>\n",
       "      <td>0</td>\n",
       "      <td>0</td>\n",
       "      <td>...</td>\n",
       "      <td>0</td>\n",
       "      <td>0</td>\n",
       "      <td>0</td>\n",
       "      <td>0</td>\n",
       "      <td>0</td>\n",
       "      <td>0</td>\n",
       "      <td>0</td>\n",
       "      <td>0</td>\n",
       "      <td>0</td>\n",
       "      <td>0</td>\n",
       "    </tr>\n",
       "    <tr>\n",
       "      <th>4</th>\n",
       "      <td>-0.086988</td>\n",
       "      <td>-0.320646</td>\n",
       "      <td>1.681838</td>\n",
       "      <td>1.102114</td>\n",
       "      <td>0.913396</td>\n",
       "      <td>1.665788</td>\n",
       "      <td>1.657267</td>\n",
       "      <td>1.657267</td>\n",
       "      <td>0</td>\n",
       "      <td>0</td>\n",
       "      <td>...</td>\n",
       "      <td>0</td>\n",
       "      <td>0</td>\n",
       "      <td>0</td>\n",
       "      <td>0</td>\n",
       "      <td>0</td>\n",
       "      <td>0</td>\n",
       "      <td>0</td>\n",
       "      <td>0</td>\n",
       "      <td>0</td>\n",
       "      <td>0</td>\n",
       "    </tr>\n",
       "    <tr>\n",
       "      <th>6</th>\n",
       "      <td>0.100615</td>\n",
       "      <td>-0.970608</td>\n",
       "      <td>2.191046</td>\n",
       "      <td>1.284571</td>\n",
       "      <td>2.465577</td>\n",
       "      <td>2.339609</td>\n",
       "      <td>1.254697</td>\n",
       "      <td>1.254697</td>\n",
       "      <td>0</td>\n",
       "      <td>0</td>\n",
       "      <td>...</td>\n",
       "      <td>0</td>\n",
       "      <td>0</td>\n",
       "      <td>0</td>\n",
       "      <td>0</td>\n",
       "      <td>0</td>\n",
       "      <td>0</td>\n",
       "      <td>0</td>\n",
       "      <td>0</td>\n",
       "      <td>0</td>\n",
       "      <td>0</td>\n",
       "    </tr>\n",
       "    <tr>\n",
       "      <th>7</th>\n",
       "      <td>0.743824</td>\n",
       "      <td>-0.443504</td>\n",
       "      <td>1.038629</td>\n",
       "      <td>0.540888</td>\n",
       "      <td>0.293856</td>\n",
       "      <td>1.095434</td>\n",
       "      <td>0.128712</td>\n",
       "      <td>0.128712</td>\n",
       "      <td>0</td>\n",
       "      <td>0</td>\n",
       "      <td>...</td>\n",
       "      <td>0</td>\n",
       "      <td>0</td>\n",
       "      <td>0</td>\n",
       "      <td>0</td>\n",
       "      <td>0</td>\n",
       "      <td>0</td>\n",
       "      <td>0</td>\n",
       "      <td>0</td>\n",
       "      <td>0</td>\n",
       "      <td>0</td>\n",
       "    </tr>\n",
       "  </tbody>\n",
       "</table>\n",
       "<p>5 rows × 50 columns</p>\n",
       "</div>"
      ],
      "text/plain": [
       "   degree_od_node  clustering_coefficiant  degree_centrality  \\\n",
       "0        0.288218               -0.488668           0.288218   \n",
       "3        0.368619               -0.057418           1.011828   \n",
       "4       -0.086988               -0.320646           1.681838   \n",
       "6        0.100615               -0.970608           2.191046   \n",
       "7        0.743824               -0.443504           1.038629   \n",
       "\n",
       "   closeness_centrality  beteen_centrality  page_rank      hubs  authorities  \\\n",
       "0              0.565407          -0.090596   0.249207 -0.040889    -0.040889   \n",
       "3              0.828308           0.029657   0.911739  1.105256     1.105256   \n",
       "4              1.102114           0.913396   1.665788  1.657267     1.657267   \n",
       "6              1.284571           2.465577   2.339609  1.254697     1.254697   \n",
       "7              0.540888           0.293856   1.095434  0.128712     0.128712   \n",
       "\n",
       "   Department_0  Department_1      ...        Department_32  Department_33  \\\n",
       "0             0             1      ...                    0              0   \n",
       "3             0             0      ...                    0              0   \n",
       "4             0             0      ...                    0              0   \n",
       "6             0             0      ...                    0              0   \n",
       "7             0             0      ...                    0              0   \n",
       "\n",
       "   Department_34  Department_35  Department_36  Department_37  Department_38  \\\n",
       "0              0              0              0              0              0   \n",
       "3              0              0              0              0              0   \n",
       "4              0              0              0              0              0   \n",
       "6              0              0              0              0              0   \n",
       "7              0              0              0              0              0   \n",
       "\n",
       "   Department_39  Department_40  Department_41  \n",
       "0              0              0              0  \n",
       "3              0              0              0  \n",
       "4              0              0              0  \n",
       "6              0              0              0  \n",
       "7              0              0              0  \n",
       "\n",
       "[5 rows x 50 columns]"
      ]
     },
     "execution_count": 24,
     "metadata": {},
     "output_type": "execute_result"
    }
   ],
   "source": [
    "X.head()"
   ]
  },
  {
   "cell_type": "code",
   "execution_count": 25,
   "metadata": {},
   "outputs": [
    {
     "data": {
      "text/html": [
       "<div>\n",
       "<style scoped>\n",
       "    .dataframe tbody tr th:only-of-type {\n",
       "        vertical-align: middle;\n",
       "    }\n",
       "\n",
       "    .dataframe tbody tr th {\n",
       "        vertical-align: top;\n",
       "    }\n",
       "\n",
       "    .dataframe thead th {\n",
       "        text-align: right;\n",
       "    }\n",
       "</style>\n",
       "<table border=\"1\" class=\"dataframe\">\n",
       "  <thead>\n",
       "    <tr style=\"text-align: right;\">\n",
       "      <th></th>\n",
       "      <th>degree_od_node</th>\n",
       "      <th>clustering_coefficiant</th>\n",
       "      <th>degree_centrality</th>\n",
       "      <th>closeness_centrality</th>\n",
       "      <th>beteen_centrality</th>\n",
       "      <th>page_rank</th>\n",
       "      <th>hubs</th>\n",
       "      <th>authorities</th>\n",
       "      <th>Department_0</th>\n",
       "      <th>Department_1</th>\n",
       "      <th>...</th>\n",
       "      <th>Department_31</th>\n",
       "      <th>Department_32</th>\n",
       "      <th>Department_34</th>\n",
       "      <th>Department_35</th>\n",
       "      <th>Department_36</th>\n",
       "      <th>Department_37</th>\n",
       "      <th>Department_38</th>\n",
       "      <th>Department_39</th>\n",
       "      <th>Department_40</th>\n",
       "      <th>Department_41</th>\n",
       "    </tr>\n",
       "  </thead>\n",
       "  <tbody>\n",
       "    <tr>\n",
       "      <th>1</th>\n",
       "      <td>0.502621</td>\n",
       "      <td>-0.532858</td>\n",
       "      <td>0.502621</td>\n",
       "      <td>0.570337</td>\n",
       "      <td>-0.074398</td>\n",
       "      <td>0.468737</td>\n",
       "      <td>0.383696</td>\n",
       "      <td>0.383696</td>\n",
       "      <td>0</td>\n",
       "      <td>1</td>\n",
       "      <td>...</td>\n",
       "      <td>0</td>\n",
       "      <td>0</td>\n",
       "      <td>0</td>\n",
       "      <td>0</td>\n",
       "      <td>0</td>\n",
       "      <td>0</td>\n",
       "      <td>0</td>\n",
       "      <td>0</td>\n",
       "      <td>0</td>\n",
       "      <td>0</td>\n",
       "    </tr>\n",
       "    <tr>\n",
       "      <th>2</th>\n",
       "      <td>2.083844</td>\n",
       "      <td>-0.403681</td>\n",
       "      <td>1.655038</td>\n",
       "      <td>1.093266</td>\n",
       "      <td>1.145400</td>\n",
       "      <td>1.750844</td>\n",
       "      <td>1.355688</td>\n",
       "      <td>1.355688</td>\n",
       "      <td>0</td>\n",
       "      <td>0</td>\n",
       "      <td>...</td>\n",
       "      <td>0</td>\n",
       "      <td>0</td>\n",
       "      <td>0</td>\n",
       "      <td>0</td>\n",
       "      <td>0</td>\n",
       "      <td>0</td>\n",
       "      <td>0</td>\n",
       "      <td>0</td>\n",
       "      <td>0</td>\n",
       "      <td>0</td>\n",
       "    </tr>\n",
       "    <tr>\n",
       "      <th>5</th>\n",
       "      <td>-0.033387</td>\n",
       "      <td>-1.162134</td>\n",
       "      <td>3.691868</td>\n",
       "      <td>1.627746</td>\n",
       "      <td>6.688760</td>\n",
       "      <td>4.263020</td>\n",
       "      <td>2.426389</td>\n",
       "      <td>2.426389</td>\n",
       "      <td>0</td>\n",
       "      <td>0</td>\n",
       "      <td>...</td>\n",
       "      <td>0</td>\n",
       "      <td>0</td>\n",
       "      <td>0</td>\n",
       "      <td>0</td>\n",
       "      <td>0</td>\n",
       "      <td>0</td>\n",
       "      <td>0</td>\n",
       "      <td>0</td>\n",
       "      <td>0</td>\n",
       "      <td>0</td>\n",
       "    </tr>\n",
       "    <tr>\n",
       "      <th>8</th>\n",
       "      <td>0.931427</td>\n",
       "      <td>0.189628</td>\n",
       "      <td>0.100615</td>\n",
       "      <td>0.447265</td>\n",
       "      <td>-0.219254</td>\n",
       "      <td>0.069913</td>\n",
       "      <td>-0.163956</td>\n",
       "      <td>-0.163956</td>\n",
       "      <td>0</td>\n",
       "      <td>0</td>\n",
       "      <td>...</td>\n",
       "      <td>0</td>\n",
       "      <td>0</td>\n",
       "      <td>0</td>\n",
       "      <td>0</td>\n",
       "      <td>0</td>\n",
       "      <td>0</td>\n",
       "      <td>0</td>\n",
       "      <td>0</td>\n",
       "      <td>0</td>\n",
       "      <td>0</td>\n",
       "    </tr>\n",
       "    <tr>\n",
       "      <th>14</th>\n",
       "      <td>1.574637</td>\n",
       "      <td>-0.729713</td>\n",
       "      <td>1.253032</td>\n",
       "      <td>0.833708</td>\n",
       "      <td>0.499982</td>\n",
       "      <td>1.274013</td>\n",
       "      <td>0.692614</td>\n",
       "      <td>0.692614</td>\n",
       "      <td>0</td>\n",
       "      <td>0</td>\n",
       "      <td>...</td>\n",
       "      <td>0</td>\n",
       "      <td>0</td>\n",
       "      <td>0</td>\n",
       "      <td>0</td>\n",
       "      <td>0</td>\n",
       "      <td>0</td>\n",
       "      <td>0</td>\n",
       "      <td>0</td>\n",
       "      <td>0</td>\n",
       "      <td>0</td>\n",
       "    </tr>\n",
       "  </tbody>\n",
       "</table>\n",
       "<p>5 rows × 46 columns</p>\n",
       "</div>"
      ],
      "text/plain": [
       "    degree_od_node  clustering_coefficiant  degree_centrality  \\\n",
       "1         0.502621               -0.532858           0.502621   \n",
       "2         2.083844               -0.403681           1.655038   \n",
       "5        -0.033387               -1.162134           3.691868   \n",
       "8         0.931427                0.189628           0.100615   \n",
       "14        1.574637               -0.729713           1.253032   \n",
       "\n",
       "    closeness_centrality  beteen_centrality  page_rank      hubs  authorities  \\\n",
       "1               0.570337          -0.074398   0.468737  0.383696     0.383696   \n",
       "2               1.093266           1.145400   1.750844  1.355688     1.355688   \n",
       "5               1.627746           6.688760   4.263020  2.426389     2.426389   \n",
       "8               0.447265          -0.219254   0.069913 -0.163956    -0.163956   \n",
       "14              0.833708           0.499982   1.274013  0.692614     0.692614   \n",
       "\n",
       "    Department_0  Department_1      ...        Department_31  Department_32  \\\n",
       "1              0             1      ...                    0              0   \n",
       "2              0             0      ...                    0              0   \n",
       "5              0             0      ...                    0              0   \n",
       "8              0             0      ...                    0              0   \n",
       "14             0             0      ...                    0              0   \n",
       "\n",
       "    Department_34  Department_35  Department_36  Department_37  Department_38  \\\n",
       "1               0              0              0              0              0   \n",
       "2               0              0              0              0              0   \n",
       "5               0              0              0              0              0   \n",
       "8               0              0              0              0              0   \n",
       "14              0              0              0              0              0   \n",
       "\n",
       "    Department_39  Department_40  Department_41  \n",
       "1               0              0              0  \n",
       "2               0              0              0  \n",
       "5               0              0              0  \n",
       "8               0              0              0  \n",
       "14              0              0              0  \n",
       "\n",
       "[5 rows x 46 columns]"
      ]
     },
     "execution_count": 25,
     "metadata": {},
     "output_type": "execute_result"
    }
   ],
   "source": [
    "miss_X.head()"
   ]
  },
  {
   "cell_type": "code",
   "execution_count": 26,
   "metadata": {},
   "outputs": [],
   "source": [
    "#creating test and train sets\n",
    "X_train, X_test, y_train, y_test = train_test_split( X, y, test_size=0.2, random_state=4)"
   ]
  },
  {
   "cell_type": "code",
   "execution_count": 27,
   "metadata": {},
   "outputs": [
    {
     "data": {
      "text/plain": [
       "array([False,  True, False,  True,  True, False, False, False, False,\n",
       "       False, False, False, False, False, False, False, False, False,\n",
       "        True, False, False, False, False, False, False, False, False,\n",
       "       False, False, False, False, False, False, False, False, False,\n",
       "       False, False, False, False, False, False, False, False, False,\n",
       "       False, False, False, False, False])"
      ]
     },
     "execution_count": 27,
     "metadata": {},
     "output_type": "execute_result"
    }
   ],
   "source": [
    "#finding most important features using RFECV\n",
    "from sklearn.feature_selection import RFECV\n",
    "LR = LogisticRegression(solver = 'lbfgs')\n",
    "selector = RFECV(LR, step=1, cv=5)\n",
    "sel = selector.fit(X_train, y_train)\n",
    "sel.support_ "
   ]
  },
  {
   "cell_type": "code",
   "execution_count": 28,
   "metadata": {},
   "outputs": [
    {
     "data": {
      "text/html": [
       "<div>\n",
       "<style scoped>\n",
       "    .dataframe tbody tr th:only-of-type {\n",
       "        vertical-align: middle;\n",
       "    }\n",
       "\n",
       "    .dataframe tbody tr th {\n",
       "        vertical-align: top;\n",
       "    }\n",
       "\n",
       "    .dataframe thead th {\n",
       "        text-align: right;\n",
       "    }\n",
       "</style>\n",
       "<table border=\"1\" class=\"dataframe\">\n",
       "  <thead>\n",
       "    <tr style=\"text-align: right;\">\n",
       "      <th></th>\n",
       "      <th>clustering_coefficiant</th>\n",
       "      <th>closeness_centrality</th>\n",
       "      <th>beteen_centrality</th>\n",
       "      <th>Department_10</th>\n",
       "    </tr>\n",
       "  </thead>\n",
       "  <tbody>\n",
       "    <tr>\n",
       "      <th>0</th>\n",
       "      <td>-0.488668</td>\n",
       "      <td>0.565407</td>\n",
       "      <td>-0.090596</td>\n",
       "      <td>0</td>\n",
       "    </tr>\n",
       "    <tr>\n",
       "      <th>3</th>\n",
       "      <td>-0.057418</td>\n",
       "      <td>0.828308</td>\n",
       "      <td>0.029657</td>\n",
       "      <td>0</td>\n",
       "    </tr>\n",
       "    <tr>\n",
       "      <th>4</th>\n",
       "      <td>-0.320646</td>\n",
       "      <td>1.102114</td>\n",
       "      <td>0.913396</td>\n",
       "      <td>0</td>\n",
       "    </tr>\n",
       "    <tr>\n",
       "      <th>6</th>\n",
       "      <td>-0.970608</td>\n",
       "      <td>1.284571</td>\n",
       "      <td>2.465577</td>\n",
       "      <td>0</td>\n",
       "    </tr>\n",
       "    <tr>\n",
       "      <th>7</th>\n",
       "      <td>-0.443504</td>\n",
       "      <td>0.540888</td>\n",
       "      <td>0.293856</td>\n",
       "      <td>0</td>\n",
       "    </tr>\n",
       "  </tbody>\n",
       "</table>\n",
       "</div>"
      ],
      "text/plain": [
       "   clustering_coefficiant  closeness_centrality  beteen_centrality  \\\n",
       "0               -0.488668              0.565407          -0.090596   \n",
       "3               -0.057418              0.828308           0.029657   \n",
       "4               -0.320646              1.102114           0.913396   \n",
       "6               -0.970608              1.284571           2.465577   \n",
       "7               -0.443504              0.540888           0.293856   \n",
       "\n",
       "   Department_10  \n",
       "0              0  \n",
       "3              0  \n",
       "4              0  \n",
       "6              0  \n",
       "7              0  "
      ]
     },
     "execution_count": 28,
     "metadata": {},
     "output_type": "execute_result"
    }
   ],
   "source": [
    "#creating new X with the selected columns\n",
    "cols= [i for i, x in enumerate(sel.support_) if x]\n",
    "X_neu = X.iloc[:, cols]\n",
    "X_neu.head()"
   ]
  },
  {
   "cell_type": "code",
   "execution_count": 29,
   "metadata": {},
   "outputs": [],
   "source": [
    "#creating new test and train sets\n",
    "X_train_n, X_test_n, y_train_n, y_test_n = train_test_split( X_neu, y, test_size=0.2, random_state=4)"
   ]
  },
  {
   "cell_type": "code",
   "execution_count": 31,
   "metadata": {},
   "outputs": [],
   "source": [
    "#suing grid search to search for a good C Parameter\n",
    "grid_values = {'C': [0.001, 0.01, 0.1, 1, 10, 100, 1000, 10000]}\n",
    "LR = LogisticRegression(solver ='liblinear')\n",
    "grid= GridSearchCV(LR, param_grid = grid_values, scoring= 'roc_auc', cv=5)\n",
    "grid.fit(X_train_n, y_train_n)\n",
    "decisionf = grid.decision_function(X_test_n)\n",
    "c = grid.best_params_[\"C\"]"
   ]
  },
  {
   "cell_type": "code",
   "execution_count": 32,
   "metadata": {},
   "outputs": [
    {
     "data": {
      "text/plain": [
       "0.9532520325203252"
      ]
     },
     "execution_count": 32,
     "metadata": {},
     "output_type": "execute_result"
    }
   ],
   "source": [
    "LR = LogisticRegression(C=c, solver ='liblinear')\n",
    "LR.fit(X_train_n, y_train_n)\n",
    "yhat = LR.predict(X_test_n)\n",
    "y_score = LR.decision_function(X_test_n)\n",
    "auc = roc_auc_score(y_test_n, y_score)\n",
    "auc"
   ]
  },
  {
   "cell_type": "code",
   "execution_count": 33,
   "metadata": {},
   "outputs": [],
   "source": [
    "#plotting the confusion matrix\n",
    "def plot_confusion_matrix(cm, classes,\n",
    "                          normalize=False,\n",
    "                          title='Confusion matrix',\n",
    "                          cmap=plt.cm.Blues):\n",
    "    if normalize:\n",
    "        cm = cm.astype('float') / cm.sum(axis=1)[:, np.newaxis]\n",
    "        print(\"Normalized confusion matrix\")\n",
    "    else:\n",
    "        print('Confusion matrix, without normalization')\n",
    "    print(cm)\n",
    "    plt.imshow(cm, interpolation='nearest', cmap=cmap)\n",
    "    plt.title(title)\n",
    "    plt.colorbar()\n",
    "    tick_marks = np.arange(len(classes))\n",
    "    plt.xticks(tick_marks, classes, rotation=45)\n",
    "    plt.yticks(tick_marks, classes)\n",
    "\n",
    "    fmt = '.2f' if normalize else 'd'\n",
    "    thresh = cm.max() / 2.\n",
    "    for i, j in itertools.product(range(cm.shape[0]), range(cm.shape[1])):\n",
    "        plt.text(j, i, format(cm[i, j], fmt),\n",
    "                 horizontalalignment=\"center\",\n",
    "                 color=\"white\" if cm[i, j] > thresh else \"black\")\n",
    "\n",
    "    plt.tight_layout()\n",
    "    plt.ylabel('True label')\n",
    "    plt.xlabel('Predicted label')"
   ]
  },
  {
   "cell_type": "code",
   "execution_count": 34,
   "metadata": {},
   "outputs": [
    {
     "name": "stdout",
     "output_type": "stream",
     "text": [
      "Confusion matrix, without normalization\n",
      "[[ 17  11]\n",
      " [  3 120]]\n"
     ]
    },
    {
     "data": {
      "image/png": "[encoded data removed]",
      "text/plain": [
       "<Figure size 432x288 with 2 Axes>"
      ]
     },
     "metadata": {
      "needs_background": "light"
     },
     "output_type": "display_data"
    }
   ],
   "source": [
    "cnf_matrix = confusion_matrix(y_test, yhat, labels=[1,0])\n",
    "np.set_printoptions(precision=2)\n",
    "plot_confusion_matrix(cnf_matrix, classes=['ManagementSalary =1','no ManagementSalary =0'],normalize= False,  title='Confusion matrix') "
   ]
  },
  {
   "cell_type": "code",
   "execution_count": 35,
   "metadata": {},
   "outputs": [],
   "source": [
    "#preparing miss_X for new predictions\n",
    "coltr = X_train_n.columns.tolist()\n",
    "colte = miss_X.columns.tolist()\n",
    "col_only_train = []\n",
    "for i in coltr:\n",
    "    if i not in colte:\n",
    "        col_only_train.append(i)\n",
    "col_only_test= []\n",
    "\n",
    "for i in colte:\n",
    "    if i not in coltr:\n",
    "        col_only_test.append(i)\n",
    "\n",
    "#Adding for the missing columns in test set default value 0\n",
    "for c in col_only_train:\n",
    "    miss_X[c] = 0\n",
    "\n",
    "# putting order of columns in same order in both sets\n",
    "miss_X.drop([i for i in col_only_test],axis = 1, inplace = True)\n",
    "\n",
    "#dropping columns that are only in the test set\n",
    "miss_X = miss_X[X_train_n.columns]    "
   ]
  },
  {
   "cell_type": "code",
   "execution_count": 36,
   "metadata": {},
   "outputs": [
    {
     "data": {
      "text/plain": [
       "(252, 4)"
      ]
     },
     "execution_count": 36,
     "metadata": {},
     "output_type": "execute_result"
    }
   ],
   "source": [
    "miss_X.shape"
   ]
  },
  {
   "cell_type": "code",
   "execution_count": 37,
   "metadata": {},
   "outputs": [
    {
     "data": {
      "text/plain": [
       "1     0.035247\n",
       "2     0.802834\n",
       "5     0.999997\n",
       "8     0.079227\n",
       "14    0.167909\n",
       "dtype: float64"
      ]
     },
     "execution_count": 37,
     "metadata": {},
     "output_type": "execute_result"
    }
   ],
   "source": [
    "# calculating the probability of receiving a management salary\n",
    "y_miss_prob = LR.predict_proba(miss_X)\n",
    "liste= [i[1] for i in y_miss_prob]\n",
    "s = pd.Series(liste, index = [miss.index])\n",
    "s[:5]"
   ]
  },
  {
   "cell_type": "markdown",
   "metadata": {},
   "source": [
    "### 2.  Predicting New Connections \n"
   ]
  },
  {
   "cell_type": "code",
   "execution_count": 41,
   "metadata": {},
   "outputs": [
    {
     "data": {
      "text/html": [
       "<div>\n",
       "<style scoped>\n",
       "    .dataframe tbody tr th:only-of-type {\n",
       "        vertical-align: middle;\n",
       "    }\n",
       "\n",
       "    .dataframe tbody tr th {\n",
       "        vertical-align: top;\n",
       "    }\n",
       "\n",
       "    .dataframe thead th {\n",
       "        text-align: right;\n",
       "    }\n",
       "</style>\n",
       "<table border=\"1\" class=\"dataframe\">\n",
       "  <thead>\n",
       "    <tr style=\"text-align: right;\">\n",
       "      <th></th>\n",
       "      <th>Future Connection</th>\n",
       "    </tr>\n",
       "  </thead>\n",
       "  <tbody>\n",
       "    <tr>\n",
       "      <th>(0, 1)</th>\n",
       "      <td>1</td>\n",
       "    </tr>\n",
       "    <tr>\n",
       "      <th>(0, 17)</th>\n",
       "      <td>1</td>\n",
       "    </tr>\n",
       "    <tr>\n",
       "      <th>(0, 316)</th>\n",
       "      <td>1</td>\n",
       "    </tr>\n",
       "    <tr>\n",
       "      <th>(0, 146)</th>\n",
       "      <td>1</td>\n",
       "    </tr>\n",
       "    <tr>\n",
       "      <th>(0, 581)</th>\n",
       "      <td>1</td>\n",
       "    </tr>\n",
       "  </tbody>\n",
       "</table>\n",
       "</div>"
      ],
      "text/plain": [
       "          Future Connection\n",
       "(0, 1)                    1\n",
       "(0, 17)                   1\n",
       "(0, 316)                  1\n",
       "(0, 146)                  1\n",
       "(0, 581)                  1"
      ]
     },
     "execution_count": 41,
     "metadata": {},
     "output_type": "execute_result"
    }
   ],
   "source": [
    "#creating dataframe with edges as indexes\n",
    "df_edge= pd.DataFrame(index=edges_tups)\n",
    "#for predictions also adding the information from the existng nodes = marking Future-connection as 1\n",
    "df_edge['Future Connection'] = 1\n",
    "df_edge.head()"
   ]
  },
  {
   "cell_type": "code",
   "execution_count": 43,
   "metadata": {},
   "outputs": [
    {
     "data": {
      "text/html": [
       "<div>\n",
       "<style scoped>\n",
       "    .dataframe tbody tr th:only-of-type {\n",
       "        vertical-align: middle;\n",
       "    }\n",
       "\n",
       "    .dataframe tbody tr th {\n",
       "        vertical-align: top;\n",
       "    }\n",
       "\n",
       "    .dataframe thead th {\n",
       "        text-align: right;\n",
       "    }\n",
       "</style>\n",
       "<table border=\"1\" class=\"dataframe\">\n",
       "  <thead>\n",
       "    <tr style=\"text-align: right;\">\n",
       "      <th></th>\n",
       "      <th>Future Connection</th>\n",
       "    </tr>\n",
       "  </thead>\n",
       "  <tbody>\n",
       "    <tr>\n",
       "      <th>(6, 840)</th>\n",
       "      <td>0.0</td>\n",
       "    </tr>\n",
       "    <tr>\n",
       "      <th>(4, 197)</th>\n",
       "      <td>0.0</td>\n",
       "    </tr>\n",
       "    <tr>\n",
       "      <th>(620, 979)</th>\n",
       "      <td>0.0</td>\n",
       "    </tr>\n",
       "    <tr>\n",
       "      <th>(519, 872)</th>\n",
       "      <td>0.0</td>\n",
       "    </tr>\n",
       "    <tr>\n",
       "      <th>(382, 423)</th>\n",
       "      <td>0.0</td>\n",
       "    </tr>\n",
       "  </tbody>\n",
       "</table>\n",
       "</div>"
      ],
      "text/plain": [
       "            Future Connection\n",
       "(6, 840)                  0.0\n",
       "(4, 197)                  0.0\n",
       "(620, 979)                0.0\n",
       "(519, 872)                0.0\n",
       "(382, 423)                0.0"
      ]
     },
     "execution_count": 43,
     "metadata": {},
     "output_type": "execute_result"
    }
   ],
   "source": [
    "#loading dataset with future connections\n",
    "future_connections = pd.read_csv('Future_Connections.csv', index_col=0, converters={0: eval})\n",
    "future_connections.head()"
   ]
  },
  {
   "cell_type": "code",
   "execution_count": 44,
   "metadata": {},
   "outputs": [],
   "source": [
    "#combining the two datasets\n",
    "trainset_e= future_connections.append(df_edge)"
   ]
  },
  {
   "cell_type": "code",
   "execution_count": 45,
   "metadata": {},
   "outputs": [],
   "source": [
    "#converting the index to tuples of strings \n",
    "new_tups = []\n",
    "for tup in trainset_e.index:\n",
    "    x= [str(i) for i in tup]\n",
    "    x= tuple(x)\n",
    "    new_tups.append(x)\n",
    "trainset_e.index = new_tups"
   ]
  },
  {
   "cell_type": "code",
   "execution_count": 46,
   "metadata": {},
   "outputs": [],
   "source": [
    "#creating features for the edges\n",
    "trainset_e['preferential attachment'] = [i[2] for i in nx.preferential_attachment(G1,trainset_e.index.values)]\n",
    "trainset_e['Common Neighbors'] = trainset_e.index.map(lambda x: len(list(nx.common_neighbors(G1, x[0], x[1]))))"
   ]
  },
  {
   "cell_type": "code",
   "execution_count": 47,
   "metadata": {},
   "outputs": [],
   "source": [
    "trainset_e['ressource_allocation'] = [i[2] for i in nx.resource_allocation_index(G1, trainset_e.index)]"
   ]
  },
  {
   "cell_type": "code",
   "execution_count": 48,
   "metadata": {},
   "outputs": [],
   "source": [
    "trainset_e['jaccard'] = [i[2] for i in nx.jaccard_coefficient(G1, trainset_e.index)]"
   ]
  },
  {
   "cell_type": "code",
   "execution_count": 49,
   "metadata": {},
   "outputs": [],
   "source": [
    "aa=[]\n",
    "for i in trainset_e.index:\n",
    "    try:\n",
    "        x = list(nx.adamic_adar_index(G1, [i]))\n",
    "        aa.append(x[0][2])\n",
    "    except:\n",
    "        aa.append(0)\n",
    "trainset_e['adamic adar'] = aa"
   ]
  },
  {
   "cell_type": "code",
   "execution_count": 50,
   "metadata": {},
   "outputs": [
    {
     "data": {
      "text/html": [
       "<div>\n",
       "<style scoped>\n",
       "    .dataframe tbody tr th:only-of-type {\n",
       "        vertical-align: middle;\n",
       "    }\n",
       "\n",
       "    .dataframe tbody tr th {\n",
       "        vertical-align: top;\n",
       "    }\n",
       "\n",
       "    .dataframe thead th {\n",
       "        text-align: right;\n",
       "    }\n",
       "</style>\n",
       "<table border=\"1\" class=\"dataframe\">\n",
       "  <thead>\n",
       "    <tr style=\"text-align: right;\">\n",
       "      <th></th>\n",
       "      <th>Future Connection</th>\n",
       "      <th>preferential attachment</th>\n",
       "      <th>Common Neighbors</th>\n",
       "      <th>ressource_allocation</th>\n",
       "      <th>jaccard</th>\n",
       "      <th>adamic adar</th>\n",
       "    </tr>\n",
       "  </thead>\n",
       "  <tbody>\n",
       "    <tr>\n",
       "      <th>(6, 840)</th>\n",
       "      <td>0.0</td>\n",
       "      <td>2070</td>\n",
       "      <td>9</td>\n",
       "      <td>0.136721</td>\n",
       "      <td>0.073770</td>\n",
       "      <td>2.110314</td>\n",
       "    </tr>\n",
       "    <tr>\n",
       "      <th>(4, 197)</th>\n",
       "      <td>0.0</td>\n",
       "      <td>3552</td>\n",
       "      <td>2</td>\n",
       "      <td>0.008437</td>\n",
       "      <td>0.015504</td>\n",
       "      <td>0.363528</td>\n",
       "    </tr>\n",
       "    <tr>\n",
       "      <th>(620, 979)</th>\n",
       "      <td>0.0</td>\n",
       "      <td>28</td>\n",
       "      <td>0</td>\n",
       "      <td>0.000000</td>\n",
       "      <td>0.000000</td>\n",
       "      <td>0.000000</td>\n",
       "    </tr>\n",
       "    <tr>\n",
       "      <th>(519, 872)</th>\n",
       "      <td>0.0</td>\n",
       "      <td>299</td>\n",
       "      <td>2</td>\n",
       "      <td>0.039726</td>\n",
       "      <td>0.060606</td>\n",
       "      <td>0.507553</td>\n",
       "    </tr>\n",
       "    <tr>\n",
       "      <th>(382, 423)</th>\n",
       "      <td>0.0</td>\n",
       "      <td>205</td>\n",
       "      <td>0</td>\n",
       "      <td>0.000000</td>\n",
       "      <td>0.000000</td>\n",
       "      <td>0.000000</td>\n",
       "    </tr>\n",
       "  </tbody>\n",
       "</table>\n",
       "</div>"
      ],
      "text/plain": [
       "            Future Connection  preferential attachment  Common Neighbors  \\\n",
       "(6, 840)                  0.0                     2070                 9   \n",
       "(4, 197)                  0.0                     3552                 2   \n",
       "(620, 979)                0.0                       28                 0   \n",
       "(519, 872)                0.0                      299                 2   \n",
       "(382, 423)                0.0                      205                 0   \n",
       "\n",
       "            ressource_allocation   jaccard  adamic adar  \n",
       "(6, 840)                0.136721  0.073770     2.110314  \n",
       "(4, 197)                0.008437  0.015504     0.363528  \n",
       "(620, 979)              0.000000  0.000000     0.000000  \n",
       "(519, 872)              0.039726  0.060606     0.507553  \n",
       "(382, 423)              0.000000  0.000000     0.000000  "
      ]
     },
     "execution_count": 50,
     "metadata": {},
     "output_type": "execute_result"
    }
   ],
   "source": [
    "trainset_e.head()"
   ]
  },
  {
   "cell_type": "code",
   "execution_count": 51,
   "metadata": {},
   "outputs": [],
   "source": [
    "#creating subsets for prediction\n",
    "miss = trainset_e[trainset_e['Future Connection'].isnull()]\n",
    "miss_X= miss.drop('Future Connection', 1)"
   ]
  },
  {
   "cell_type": "code",
   "execution_count": 52,
   "metadata": {},
   "outputs": [],
   "source": [
    "trainset_e.dropna(subset=['Future Connection'], axis=0, inplace = True)\n",
    "X = trainset_e.drop('Future Connection', 1)\n",
    "y= trainset_e['Future Connection']"
   ]
  },
  {
   "cell_type": "code",
   "execution_count": 53,
   "metadata": {},
   "outputs": [
    {
     "name": "stderr",
     "output_type": "stream",
     "text": [
      "C:\\Users\\User\\Anaconda3\\lib\\site-packages\\sklearn\\preprocessing\\data.py:625: DataConversionWarning: Data with input dtype int64 were all converted to float64 by StandardScaler.\n",
      "  return self.partial_fit(X, y)\n",
      "C:\\Users\\User\\Anaconda3\\lib\\site-packages\\sklearn\\base.py:462: DataConversionWarning: Data with input dtype int64 were all converted to float64 by StandardScaler.\n",
      "  return self.fit(X, **fit_params).transform(X)\n",
      "C:\\Users\\User\\Anaconda3\\lib\\site-packages\\sklearn\\preprocessing\\data.py:625: DataConversionWarning: Data with input dtype int64 were all converted to float64 by StandardScaler.\n",
      "  return self.partial_fit(X, y)\n",
      "C:\\Users\\User\\Anaconda3\\lib\\site-packages\\sklearn\\base.py:462: DataConversionWarning: Data with input dtype int64 were all converted to float64 by StandardScaler.\n",
      "  return self.fit(X, **fit_params).transform(X)\n",
      "C:\\Users\\User\\Anaconda3\\lib\\site-packages\\sklearn\\preprocessing\\data.py:625: DataConversionWarning: Data with input dtype int64 were all converted to float64 by StandardScaler.\n",
      "  return self.partial_fit(X, y)\n",
      "C:\\Users\\User\\Anaconda3\\lib\\site-packages\\sklearn\\base.py:462: DataConversionWarning: Data with input dtype int64 were all converted to float64 by StandardScaler.\n",
      "  return self.fit(X, **fit_params).transform(X)\n",
      "C:\\Users\\User\\Anaconda3\\lib\\site-packages\\sklearn\\preprocessing\\data.py:625: DataConversionWarning: Data with input dtype int64 were all converted to float64 by StandardScaler.\n",
      "  return self.partial_fit(X, y)\n",
      "C:\\Users\\User\\Anaconda3\\lib\\site-packages\\sklearn\\base.py:462: DataConversionWarning: Data with input dtype int64 were all converted to float64 by StandardScaler.\n",
      "  return self.fit(X, **fit_params).transform(X)\n"
     ]
    }
   ],
   "source": [
    "#standardize variables\n",
    "for i in X.columns:\n",
    "    X[[i]] = StandardScaler().fit_transform(X[[i]])\n",
    "for i in miss_X.columns:\n",
    "     miss_X[[i]] = StandardScaler().fit_transform(miss_X[[i]])"
   ]
  },
  {
   "cell_type": "code",
   "execution_count": 54,
   "metadata": {},
   "outputs": [],
   "source": [
    "#creating test and train sets\n",
    "X_train, X_test, y_train, y_test = train_test_split(X, y, test_size=0.2, random_state=4)"
   ]
  },
  {
   "cell_type": "code",
   "execution_count": 55,
   "metadata": {},
   "outputs": [
    {
     "data": {
      "text/plain": [
       "array([ True,  True,  True,  True,  True])"
      ]
     },
     "execution_count": 55,
     "metadata": {},
     "output_type": "execute_result"
    }
   ],
   "source": [
    "#finding most important features using RFECV\n",
    "from sklearn.feature_selection import RFECV\n",
    "LR = LogisticRegression(solver = 'lbfgs')\n",
    "selector = RFECV(LR, step=1, cv=5)\n",
    "sel = selector.fit(X_train, y_train)\n",
    "sel.support_ "
   ]
  },
  {
   "cell_type": "code",
   "execution_count": 29,
   "metadata": {},
   "outputs": [
    {
     "data": {
      "text/html": [
       "<div>\n",
       "<style scoped>\n",
       "    .dataframe tbody tr th:only-of-type {\n",
       "        vertical-align: middle;\n",
       "    }\n",
       "\n",
       "    .dataframe tbody tr th {\n",
       "        vertical-align: top;\n",
       "    }\n",
       "\n",
       "    .dataframe thead th {\n",
       "        text-align: right;\n",
       "    }\n",
       "</style>\n",
       "<table border=\"1\" class=\"dataframe\">\n",
       "  <thead>\n",
       "    <tr style=\"text-align: right;\">\n",
       "      <th></th>\n",
       "      <th>Common Neighbors</th>\n",
       "      <th>ressource_allocation</th>\n",
       "      <th>jaccard</th>\n",
       "    </tr>\n",
       "  </thead>\n",
       "  <tbody>\n",
       "    <tr>\n",
       "      <th>(6, 840)</th>\n",
       "      <td>0.960729</td>\n",
       "      <td>0.842122</td>\n",
       "      <td>0.728000</td>\n",
       "    </tr>\n",
       "    <tr>\n",
       "      <th>(4, 197)</th>\n",
       "      <td>-0.088703</td>\n",
       "      <td>-0.217936</td>\n",
       "      <td>-0.187887</td>\n",
       "    </tr>\n",
       "    <tr>\n",
       "      <th>(620, 979)</th>\n",
       "      <td>-0.388541</td>\n",
       "      <td>-0.287658</td>\n",
       "      <td>-0.431591</td>\n",
       "    </tr>\n",
       "    <tr>\n",
       "      <th>(519, 872)</th>\n",
       "      <td>-0.088703</td>\n",
       "      <td>0.040609</td>\n",
       "      <td>0.521070</td>\n",
       "    </tr>\n",
       "    <tr>\n",
       "      <th>(382, 423)</th>\n",
       "      <td>-0.388541</td>\n",
       "      <td>-0.287658</td>\n",
       "      <td>-0.431591</td>\n",
       "    </tr>\n",
       "  </tbody>\n",
       "</table>\n",
       "</div>"
      ],
      "text/plain": [
       "            Common Neighbors  ressource_allocation   jaccard\n",
       "(6, 840)            0.960729              0.842122  0.728000\n",
       "(4, 197)           -0.088703             -0.217936 -0.187887\n",
       "(620, 979)         -0.388541             -0.287658 -0.431591\n",
       "(519, 872)         -0.088703              0.040609  0.521070\n",
       "(382, 423)         -0.388541             -0.287658 -0.431591"
      ]
     },
     "execution_count": 29,
     "metadata": {},
     "output_type": "execute_result"
    }
   ],
   "source": [
    "#getting numbers of selected columns\n",
    "cols= [i for i, x in enumerate(sel.support_) if x]\n",
    "X_neu = X.iloc[:, cols]\n",
    "X_neu.head()"
   ]
  },
  {
   "cell_type": "code",
   "execution_count": 31,
   "metadata": {},
   "outputs": [],
   "source": [
    "#creating new test and train sets\n",
    "X_train_n, X_test_n, y_train_n, y_test_n = train_test_split( X_neu, y, test_size=0.2, random_state=4)"
   ]
  },
  {
   "cell_type": "code",
   "execution_count": 32,
   "metadata": {},
   "outputs": [
    {
     "name": "stderr",
     "output_type": "stream",
     "text": [
      "C:\\Users\\User\\Anaconda3\\lib\\site-packages\\sklearn\\model_selection\\_split.py:2053: FutureWarning: You should specify a value for 'cv' instead of relying on the default value. The default value will change from 3 to 5 in version 0.22.\n",
      "  warnings.warn(CV_WARNING, FutureWarning)\n"
     ]
    }
   ],
   "source": [
    "#using grid search for optimizing parameter C\n",
    "grid_values = {'C': [0.001, 0.01, 0.1, 1, 10, 100, 1000, 10000]}\n",
    "LR = LogisticRegression(solver ='liblinear')\n",
    "grid= GridSearchCV(LR, param_grid = grid_values, scoring= 'roc_auc')\n",
    "grid.fit(X_train, y_train)\n",
    "decisionf = grid.decision_function(X_test)\n",
    "c = grid.best_params_[\"C\"]"
   ]
  },
  {
   "cell_type": "code",
   "execution_count": 33,
   "metadata": {},
   "outputs": [
    {
     "data": {
      "text/plain": [
       "0.9296195977868384"
      ]
     },
     "execution_count": 33,
     "metadata": {},
     "output_type": "execute_result"
    }
   ],
   "source": [
    "#training the classifier\n",
    "LR = LogisticRegression(C=c, solver ='liblinear')\n",
    "LR.fit(X_train, y_train)\n",
    "yhat = LR.predict(X_test)\n",
    "y_score = LR.decision_function(X_test)\n",
    "auc = roc_auc_score(y_test, y_score)\n",
    "auc"
   ]
  },
  {
   "cell_type": "code",
   "execution_count": 36,
   "metadata": {},
   "outputs": [
    {
     "name": "stdout",
     "output_type": "stream",
     "text": [
      "Confusion matrix, without normalization\n",
      "[[ 6186  2924]\n",
      " [  738 66760]]\n"
     ]
    },
    {
     "data": {
      "image/png": "[encoded data removed]",
      "text/plain": [
       "<Figure size 432x288 with 2 Axes>"
      ]
     },
     "metadata": {
      "needs_background": "light"
     },
     "output_type": "display_data"
    }
   ],
   "source": [
    "#plotting the confusion matrix\n",
    "cnf_matrix = confusion_matrix(y_test, yhat, labels=[1,0])\n",
    "np.set_printoptions(precision=2)\n",
    "plot_confusion_matrix(cnf_matrix, classes=['future connection=1','no future connection =0'],normalize= False,  title='Confusion matrix') "
   ]
  },
  {
   "cell_type": "code",
   "execution_count": 38,
   "metadata": {},
   "outputs": [
    {
     "data": {
      "text/plain": [
       "(107, 348)    0.066084\n",
       "(542, 751)    0.016101\n",
       "(20, 426)     0.962855\n",
       "(50, 989)     0.016048\n",
       "(942, 986)    0.015992\n",
       "dtype: float64"
      ]
     },
     "execution_count": 38,
     "metadata": {},
     "output_type": "execute_result"
    }
   ],
   "source": [
    "#predicting the probability for a connection in the future\n",
    "y_miss_prob = LR.predict_proba(miss_X)\n",
    "liste= [i[1] for i in y_miss_prob]\n",
    "proba_conn = pd.Series(liste, index = [miss.index])\n",
    "proba_conn[:5]"
   ]
  }
 ],
 "metadata": {
  "coursera": {
   "course_slug": "python-social-network-analysis",
   "graded_item_id": "BGNwe",
   "launcher_item_id": "rMoj0",
   "part_id": "E2zRG"
  },
  "kernelspec": {
   "display_name": "Python 3",
   "language": "python",
   "name": "python3"
  },
  "language_info": {
   "codemirror_mode": {
    "name": "ipython",
    "version": 3
   },
   "file_extension": ".py",
   "mimetype": "text/x-python",
   "name": "python",
   "nbconvert_exporter": "python",
   "pygments_lexer": "ipython3",
   "version": "3.7.1"
  }
 },
 "nbformat": 4,
 "nbformat_minor": 2
}
